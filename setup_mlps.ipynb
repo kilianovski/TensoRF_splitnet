{
 "cells": [
  {
   "cell_type": "code",
   "execution_count": 1,
   "id": "a714251e-5113-4f21-bcf8-e090181f015a",
   "metadata": {
    "tags": []
   },
   "outputs": [],
   "source": [
    "%load_ext autoreload\n",
    "%autoreload 2"
   ]
  },
  {
   "cell_type": "code",
   "execution_count": 2,
   "id": "a0b95391-a507-4d90-90f3-664962b942f5",
   "metadata": {
    "tags": []
   },
   "outputs": [],
   "source": [
    "from utils import count_parameters\n",
    "from models.tensorBase import TensorfSiren, MLPRender_Fea"
   ]
  },
  {
   "cell_type": "code",
   "execution_count": 3,
   "id": "45507de9-f1dc-42df-894e-dea92c3526c2",
   "metadata": {
    "tags": []
   },
   "outputs": [],
   "source": [
    "# self.app_dim, view_pe, fea_pe, featureC 27 2 2 128"
   ]
  },
  {
   "cell_type": "code",
   "execution_count": 4,
   "id": "78a5de26-56d2-48dd-b4ba-05c161efbeae",
   "metadata": {
    "tags": []
   },
   "outputs": [
    {
     "name": "stdout",
     "output_type": "stream",
     "text": [
      "+--------------+------------+\n",
      "|   Modules    | Parameters |\n",
      "+--------------+------------+\n",
      "| mlp.0.weight |   19200    |\n",
      "|  mlp.0.bias  |    128     |\n",
      "| mlp.2.weight |   16384    |\n",
      "|  mlp.2.bias  |    128     |\n",
      "| mlp.4.weight |    384     |\n",
      "|  mlp.4.bias  |     3      |\n",
      "+--------------+------------+\n",
      "Total Trainable Params: 36227\n"
     ]
    },
    {
     "data": {
      "text/plain": [
       "36227"
      ]
     },
     "execution_count": 4,
     "metadata": {},
     "output_type": "execute_result"
    }
   ],
   "source": [
    "mlp_kwargs = {\n",
    "    'inChanel': 27,\n",
    "    'viewpe': 2,\n",
    "    'feape': 2,\n",
    "    'featureC': 128,\n",
    "}\n",
    "\n",
    "count_parameters(MLPRender_Fea(**mlp_kwargs))"
   ]
  },
  {
   "cell_type": "code",
   "execution_count": 5,
   "id": "087aeee3-73ed-462b-97df-2bf0a3832acc",
   "metadata": {
    "tags": []
   },
   "outputs": [
    {
     "name": "stdout",
     "output_type": "stream",
     "text": [
      "+---------------------+------------+\n",
      "|       Modules       | Parameters |\n",
      "+---------------------+------------+\n",
      "| net.0.linear.weight |   19200    |\n",
      "|  net.0.linear.bias  |    128     |\n",
      "| net.1.linear.weight |   16384    |\n",
      "|  net.1.linear.bias  |    128     |\n",
      "|     net.2.weight    |    384     |\n",
      "|      net.2.bias     |     3      |\n",
      "+---------------------+------------+\n",
      "Total Trainable Params: 36227\n"
     ]
    },
    {
     "data": {
      "text/plain": [
       "36227"
      ]
     },
     "execution_count": 5,
     "metadata": {},
     "output_type": "execute_result"
    }
   ],
   "source": [
    "count_parameters(TensorfSiren(**mlp_kwargs))"
   ]
  },
  {
   "cell_type": "code",
   "execution_count": 15,
   "id": "d29fad21-be09-46ae-ac95-9aff417c0fc6",
   "metadata": {
    "tags": []
   },
   "outputs": [
    {
     "name": "stdout",
     "output_type": "stream",
     "text": [
      "+--------------------------------+------------+\n",
      "|            Modules             | Parameters |\n",
      "+--------------------------------+------------+\n",
      "| networks.0.net.0.linear.weight |   27000    |\n",
      "|  networks.0.net.0.linear.bias  |    180     |\n",
      "| networks.0.net.1.linear.weight |    8100    |\n",
      "|  networks.0.net.1.linear.bias  |    180     |\n",
      "|    networks.0.net.2.weight     |    135     |\n",
      "|     networks.0.net.2.bias      |     3      |\n",
      "+--------------------------------+------------+\n",
      "Total Trainable Params: 35598\n"
     ]
    },
    {
     "data": {
      "text/plain": [
       "35598"
      ]
     },
     "execution_count": 15,
     "metadata": {},
     "output_type": "execute_result"
    }
   ],
   "source": [
    "from models.splitnet import ParallelSplitNet\n",
    "count_parameters(ParallelSplitNet(**{\n",
    "    'inChanel': 27,\n",
    "    'viewpe': 2,\n",
    "    'feape': 2,\n",
    "    'featureC': 45,\n",
    "}))"
   ]
  },
  {
   "cell_type": "code",
   "execution_count": 7,
   "id": "db03cffe-e7b8-4060-9a15-2d3dc7a5b673",
   "metadata": {},
   "outputs": [
    {
     "name": "stdout",
     "output_type": "stream",
     "text": [
      "+--------------+------------+\n",
      "|   Modules    | Parameters |\n",
      "+--------------+------------+\n",
      "| mlp.0.weight |   17850    |\n",
      "|  mlp.0.bias  |    119     |\n",
      "| mlp.2.weight |   14161    |\n",
      "|  mlp.2.bias  |    119     |\n",
      "| mlp.4.weight |    357     |\n",
      "|  mlp.4.bias  |     3      |\n",
      "+--------------+------------+\n",
      "Total Trainable Params: 32609\n"
     ]
    },
    {
     "data": {
      "text/plain": [
       "32609"
      ]
     },
     "execution_count": 7,
     "metadata": {},
     "output_type": "execute_result"
    }
   ],
   "source": [
    "mlp_kwargs = {\n",
    "    'inChanel': 27,\n",
    "    'viewpe': 2,\n",
    "    'feape': 2,\n",
    "    'featureC': 119,\n",
    "}\n",
    "\n",
    "count_parameters(MLPRender_Fea(**mlp_kwargs))"
   ]
  },
  {
   "cell_type": "code",
   "execution_count": null,
   "id": "5e62b043-8304-41ee-9978-79c36fa0ca0f",
   "metadata": {},
   "outputs": [],
   "source": []
  }
 ],
 "metadata": {
  "environment": {
   "kernel": "python3",
   "name": "pytorch-gpu.1-13.m103",
   "type": "gcloud",
   "uri": "gcr.io/deeplearning-platform-release/pytorch-gpu.1-13:m103"
  },
  "kernelspec": {
   "display_name": "Python 3 (ipykernel)",
   "language": "python",
   "name": "python3"
  },
  "language_info": {
   "codemirror_mode": {
    "name": "ipython",
    "version": 3
   },
   "file_extension": ".py",
   "mimetype": "text/x-python",
   "name": "python",
   "nbconvert_exporter": "python",
   "pygments_lexer": "ipython3",
   "version": "3.8.16"
  }
 },
 "nbformat": 4,
 "nbformat_minor": 5
}
